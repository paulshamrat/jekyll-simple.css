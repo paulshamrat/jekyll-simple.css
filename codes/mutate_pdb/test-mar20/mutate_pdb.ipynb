{
 "cells": [
  {
   "attachments": {},
   "cell_type": "markdown",
   "metadata": {},
   "source": [
    "# Title: Mutating a Residue in a PDB File using Biopython\n",
    "\n",
    "Introduction:\n",
    "The Protein Data Bank (PDB) is a database that provides structural information about proteins, nucleic acids, and other macromolecules. Biopython is a popular open-source tool that is widely used in bioinformatics and computational biology. In this tutorial, we will learn how to mutate a specific residue in a PDB file using Biopython.\n",
    "\n",
    "Description:\n",
    "\n",
    "- First, we import the required modules from Biopython - PDBParser, PDBIO, and Select. These modules are used to parse PDB files, write PDB files, and select specific residues in a PDB file, respectively.\n",
    "\n",
    "- Next, we define a class called ResidueSelector that inherits from the Select class. This class is used to select the residue at position 210 in chain G.\n",
    "\n",
    "- We then parse the PDB file \"3unf.pdb\" using the PDBParser module and create a structure object.\n",
    "\n",
    "- We create an instance of the PDBIO class and set its structure to the structure object we just created.\n",
    "\n",
    "- We use the save() method of the PDBIO class to write a new PDB file called \"3unf_mutated.pdb\". This new file contains the original structure but with the residue at position 210 in chain G mutated to a valine residue.\n",
    "\n",
    "- Finally, we iterate over the residues in the structure object, find the residue at position 210 in chain G, and change its residue type to valine. We then save the mutated structure to the same PDB file using the save() method of the PDBIO class.\n",
    "\n",
    "Conclusion:\n",
    "\n",
    "In this tutorial, we have learned how to mutate a specific residue in a PDB file using Biopython. The example code demonstrates how to select a specific residue, change its residue type, and save the mutated structure to a new PDB file. This technique can be useful for studying the effects of mutations on protein structure and function.\n",
    "\n",
    "Example Code:"
   ]
  },
  {
   "cell_type": "code",
   "execution_count": null,
   "metadata": {},
   "outputs": [],
   "source": [
    "from Bio.PDB import PDBParser, PDBIO, Select\n",
    "\n",
    "# Define a class to select the residue at position 210 in chain G\n",
    "class ResidueSelector(Select):\n",
    "    def accept_residue(self, residue):\n",
    "        if residue.get_id()[1] == 210 and residue.get_parent().id == \"G\":\n",
    "            return True\n",
    "        else:\n",
    "            return False\n",
    "\n",
    "# Parse the PDB file\n",
    "pdb_file = \"3unf.pdb\"\n",
    "parser = PDBParser()\n",
    "structure = parser.get_structure(\"3unf\", pdb_file)\n",
    "\n",
    "# Select the residue at position 210 in chain G and change its residue type to valine\n",
    "io = PDBIO()\n",
    "io.set_structure(structure)\n",
    "io.save(\"3unf_mutated.pdb\", ResidueSelector())\n",
    "\n",
    "for model in structure:\n",
    "    for chain in model:\n",
    "        for residue in chain:\n",
    "            if residue.get_id()[1] == 210 and chain.get_id() == \"G\":\n",
    "                residue.resname = \"VAL\"\n",
    "\n",
    "io.save(\"3unf_mutated_g210v.pdb\")\n"
   ]
  }
 ],
 "metadata": {
  "kernelspec": {
   "display_name": "Python 3",
   "language": "python",
   "name": "python3"
  },
  "language_info": {
   "codemirror_mode": {
    "name": "ipython",
    "version": 3
   },
   "file_extension": ".py",
   "mimetype": "text/x-python",
   "name": "python",
   "nbconvert_exporter": "python",
   "pygments_lexer": "ipython3",
   "version": "3.10.10"
  },
  "orig_nbformat": 4,
  "vscode": {
   "interpreter": {
    "hash": "949996dafeb53c2a6cc9d7cb1fc1595a313963c9c93354e5c56df6db6a3e1069"
   }
  }
 },
 "nbformat": 4,
 "nbformat_minor": 2
}
