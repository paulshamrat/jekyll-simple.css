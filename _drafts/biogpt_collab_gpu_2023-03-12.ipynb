{
 "cells": [
  {
   "cell_type": "code",
   "execution_count": null,
   "metadata": {},
   "outputs": [],
   "source": [
    "!pip install sacremoses\n",
    "!pip install transformers\n",
    "\n",
    "from transformers import pipeline, set_seed, BioGptTokenizer, BioGptForCausalLM\n",
    "\n",
    "model = BioGptForCausalLM.from_pretrained(\"microsoft/biogpt\")\n",
    "tokenizer = BioGptTokenizer.from_pretrained(\"microsoft/biogpt\")\n",
    "generator = pipeline(\"text-generation\", model=model, tokenizer=tokenizer)\n",
    "\n",
    "set_seed(42)\n",
    "input_text = \"COVID-19 is\"\n",
    "generator(input_text, max_length=20, num_return_sequences=5, do_sample=True)\n"
   ]
  }
 ],
 "metadata": {
  "language_info": {
   "name": "python"
  },
  "orig_nbformat": 4
 },
 "nbformat": 4,
 "nbformat_minor": 2
}
